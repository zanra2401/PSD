{
 "cells": [
  {
   "cell_type": "markdown",
   "id": "19951eea",
   "metadata": {},
   "source": [
    "# Modeling dengan KNN Regression\n",
    "\n",
    "#### Pengertian\n",
    "**K-Nearest Neighbors (KNN) Regression** adalah metode regresi non-parametrik yang memprediksi nilai output berdasarkan kedekatan (jarak) dengan data lain dalam ruang fitur.  \n",
    "Berbeda dengan model berbasis fungsi matematis, KNN tidak membuat asumsi bentuk hubungan antar variabel — melainkan menggunakan **data tetangga terdekat** untuk membuat prediksi."
   ]
  },
  {
   "cell_type": "code",
   "execution_count": 44,
   "id": "48dc9d03",
   "metadata": {},
   "outputs": [],
   "source": [
    "import pandas as pd\n",
    "from sklearn.neighbors import KNeighborsRegressor\n",
    "from sklearn.model_selection import train_test_split\n",
    "from sklearn.preprocessing import StandardScaler\n",
    "from sklearn.metrics import mean_absolute_percentage_error"
   ]
  },
  {
   "cell_type": "code",
   "execution_count": 45,
   "id": "521d66e4",
   "metadata": {},
   "outputs": [],
   "source": [
    "def create_columns(lag=5): \n",
    "    columns = [] \n",
    "    for i in range(lag, lag - lag, -1): \n",
    "        columns.append(\"lag_\" + str(i)) \n",
    "    columns.append(\"target\") \n",
    "    return columns \n",
    "\n",
    "def create_supervised_data(data, lag=5): \n",
    "    data_supervised = [] \n",
    "    for i in range(lag, len(data)): \n",
    "        row = data[i-lag:i+1] \n",
    "        data_supervised.append(row) \n",
    "        columns = create_columns(lag) \n",
    "    \n",
    "    supervised_df = pd.DataFrame(data_supervised, columns=columns) \n",
    "    return supervised_df"
   ]
  },
  {
   "cell_type": "markdown",
   "id": "43682374",
   "metadata": {},
   "source": [
    ">Disini saya modeling dengan 6 dataset, data dengan lag_1 - lag_5, lag_10  \n",
    ">lalu akan saya bandingkan akurasi setiap model  \n",
    ">Saya normalisasi data dengan StandardScaler dari sklearn  "
   ]
  },
  {
   "cell_type": "markdown",
   "id": "1718bddf",
   "metadata": {},
   "source": [
    "### Model dengan data Lag 1"
   ]
  },
  {
   "cell_type": "code",
   "execution_count": 46,
   "id": "c171cd2b",
   "metadata": {},
   "outputs": [
    {
     "name": "stdout",
     "output_type": "stream",
     "text": [
      "0.03428513453243376\n"
     ]
    },
    {
     "data": {
      "text/plain": [
       "0.982895855192723"
      ]
     },
     "execution_count": 46,
     "metadata": {},
     "output_type": "execute_result"
    }
   ],
   "source": [
    "supervised_df = pd.read_csv(\"no2_bojonegoro_post/supervised_data_lag_1.csv\")\n",
    "\n",
    "X = supervised_df[create_columns(1)]\n",
    "\n",
    "# Normalisasi\n",
    "scaler = StandardScaler()\n",
    "X_scaled = scaler.fit_transform(X)\n",
    "\n",
    "X_scaled = pd.DataFrame(X_scaled, columns=X.columns)\n",
    "y = supervised_df[\"target\"]\n",
    "\n",
    "X_train, X_test, y_train, y_test = train_test_split(X_scaled, y, test_size=0.2, random_state=42)\n",
    "\n",
    "model_lag1 = KNeighborsRegressor(n_neighbors=3)\n",
    "model_lag1.fit(X_train, y_train)\n",
    "\n",
    "y_pred = model_lag1.predict(X_test)\n",
    "mape_lag1 = mean_absolute_percentage_error(y_test, y_pred)\n",
    "print(mape_lag1)\n",
    "score_lag1 = model_lag1.score(X_test, y_test)\n",
    "score_lag1"
   ]
  },
  {
   "cell_type": "markdown",
   "id": "e0945374",
   "metadata": {},
   "source": [
    "### Model dengan data Lag 2"
   ]
  },
  {
   "cell_type": "code",
   "execution_count": 47,
   "id": "fdd13964",
   "metadata": {},
   "outputs": [
    {
     "name": "stdout",
     "output_type": "stream",
     "text": [
      "0.08466262656670394\n"
     ]
    },
    {
     "data": {
      "text/plain": [
       "0.8767054925575326"
      ]
     },
     "execution_count": 47,
     "metadata": {},
     "output_type": "execute_result"
    }
   ],
   "source": [
    "supervised_df = pd.read_csv(\"no2_bojonegoro_post/supervised_data_lag_2.csv\")\n",
    "\n",
    "X = supervised_df[create_columns(2)]\n",
    "\n",
    "# Normalisasi\n",
    "scaler = StandardScaler()\n",
    "X_scaled = scaler.fit_transform(X)\n",
    "\n",
    "X_scaled = pd.DataFrame(X_scaled, columns=X.columns)\n",
    "y = supervised_df[\"target\"]\n",
    "\n",
    "X_train, X_test, y_train, y_test = train_test_split(X_scaled, y, test_size=0.2, random_state=42)\n",
    "\n",
    "model_lag2 = KNeighborsRegressor(n_neighbors=3)\n",
    "model_lag2.fit(X_train, y_train)\n",
    "\n",
    "y_pred = model_lag2.predict(X_test)\n",
    "mape_lag2 = mean_absolute_percentage_error(y_test, y_pred)\n",
    "print(mape_lag2)\n",
    "score_lag2 = model_lag2.score(X_test, y_test)\n",
    "score_lag2"
   ]
  },
  {
   "cell_type": "markdown",
   "id": "91175c14",
   "metadata": {},
   "source": [
    "### Model dengan Lag 3"
   ]
  },
  {
   "cell_type": "code",
   "execution_count": 48,
   "id": "5286a6a6",
   "metadata": {},
   "outputs": [
    {
     "name": "stdout",
     "output_type": "stream",
     "text": [
      "0.07007481899600325\n"
     ]
    },
    {
     "data": {
      "text/plain": [
       "0.8227990868861905"
      ]
     },
     "execution_count": 48,
     "metadata": {},
     "output_type": "execute_result"
    }
   ],
   "source": [
    "supervised_df = pd.read_csv(\"no2_bojonegoro_post/supervised_data_lag_3.csv\")\n",
    "\n",
    "X = supervised_df[create_columns(3)]\n",
    "\n",
    "# Normalisasi\n",
    "scaler = StandardScaler()\n",
    "X_scaled = scaler.fit_transform(X)\n",
    "\n",
    "X_scaled = pd.DataFrame(X_scaled, columns=X.columns)\n",
    "y = supervised_df[\"target\"]\n",
    "\n",
    "X_train, X_test, y_train, y_test = train_test_split(X_scaled, y, test_size=0.2, random_state=42)\n",
    "\n",
    "model_lag3 = KNeighborsRegressor(n_neighbors=3)\n",
    "model_lag3.fit(X_train, y_train)\n",
    "\n",
    "y_pred = model_lag3.predict(X_test)\n",
    "mape_lag3 = mean_absolute_percentage_error(y_test, y_pred)\n",
    "print(mape_lag3)\n",
    "score_lag3 = model_lag3.score(X_test, y_test)\n",
    "score_lag3"
   ]
  },
  {
   "cell_type": "markdown",
   "id": "62234fcc",
   "metadata": {},
   "source": [
    "### Model dengan Lag 4"
   ]
  },
  {
   "cell_type": "code",
   "execution_count": 49,
   "id": "52f1fc96",
   "metadata": {},
   "outputs": [
    {
     "name": "stdout",
     "output_type": "stream",
     "text": [
      "0.08038229945136457\n"
     ]
    },
    {
     "data": {
      "text/plain": [
       "0.8667684312322501"
      ]
     },
     "execution_count": 49,
     "metadata": {},
     "output_type": "execute_result"
    }
   ],
   "source": [
    "supervised_df = pd.read_csv(\"no2_bojonegoro_post/supervised_data_lag_4.csv\")\n",
    "\n",
    "X = supervised_df[create_columns(4)]\n",
    "\n",
    "# Normalisasi\n",
    "scaler = StandardScaler()\n",
    "X_scaled = scaler.fit_transform(X)\n",
    "\n",
    "X_scaled = pd.DataFrame(X_scaled, columns=X.columns)\n",
    "y = supervised_df[\"target\"]\n",
    "\n",
    "X_train, X_test, y_train, y_test = train_test_split(X_scaled, y, test_size=0.2, random_state=42)\n",
    "\n",
    "model_lag4 = KNeighborsRegressor(n_neighbors=3)\n",
    "model_lag4.fit(X_train, y_train)\n",
    "\n",
    "y_pred = model_lag4.predict(X_test)\n",
    "mape_lag4 = mean_absolute_percentage_error(y_test, y_pred)\n",
    "print(mape_lag4)\n",
    "score_lag4 = model_lag4.score(X_test, y_test)\n",
    "score_lag4"
   ]
  },
  {
   "cell_type": "markdown",
   "id": "3dfa13d9",
   "metadata": {},
   "source": [
    "### Model dengan Lag 5"
   ]
  },
  {
   "cell_type": "code",
   "execution_count": 50,
   "id": "3fabc68f",
   "metadata": {},
   "outputs": [
    {
     "name": "stdout",
     "output_type": "stream",
     "text": [
      "0.06459424176666838\n"
     ]
    },
    {
     "data": {
      "text/plain": [
       "0.8970300222214518"
      ]
     },
     "execution_count": 50,
     "metadata": {},
     "output_type": "execute_result"
    }
   ],
   "source": [
    "supervised_df = pd.read_csv(\"no2_bojonegoro_post/supervised_data_lag_5.csv\")\n",
    "\n",
    "X = supervised_df[create_columns(5)]\n",
    "\n",
    "# Normalisasi\n",
    "scaler = StandardScaler()\n",
    "X_scaled = scaler.fit_transform(X)\n",
    "\n",
    "X_scaled = pd.DataFrame(X_scaled, columns=X.columns)\n",
    "y = supervised_df[\"target\"]\n",
    "\n",
    "X_train, X_test, y_train, y_test = train_test_split(X_scaled, y, test_size=0.2, random_state=42)\n",
    "\n",
    "model_lag5 = KNeighborsRegressor(n_neighbors=3)\n",
    "model_lag5.fit(X_train, y_train)\n",
    "\n",
    "y_pred = model_lag5.predict(X_test)\n",
    "mape_lag5 = mean_absolute_percentage_error(y_test, y_pred)\n",
    "print(mape_lag5)\n",
    "score_lag5 = model_lag5.score(X_test, y_test)\n",
    "score_lag5"
   ]
  },
  {
   "cell_type": "markdown",
   "id": "d146a954",
   "metadata": {},
   "source": [
    "### Model dengan Lag 10"
   ]
  },
  {
   "cell_type": "code",
   "execution_count": 51,
   "id": "82fe4f5a",
   "metadata": {},
   "outputs": [
    {
     "name": "stdout",
     "output_type": "stream",
     "text": [
      "0.12272261219609952\n"
     ]
    },
    {
     "data": {
      "text/plain": [
       "0.5817857129078882"
      ]
     },
     "execution_count": 51,
     "metadata": {},
     "output_type": "execute_result"
    }
   ],
   "source": [
    "supervised_df = pd.read_csv(\"no2_bojonegoro_post/supervised_data_lag_10.csv\")\n",
    "\n",
    "X = supervised_df[create_columns(10)]\n",
    "\n",
    "# Normalisasi\n",
    "scaler = StandardScaler()\n",
    "X_scaled = scaler.fit_transform(X)\n",
    "\n",
    "X_scaled = pd.DataFrame(X_scaled, columns=X.columns)\n",
    "y = supervised_df[\"target\"]\n",
    "\n",
    "X_train, X_test, y_train, y_test = train_test_split(X_scaled, y, test_size=0.2, random_state=42)\n",
    "\n",
    "model_lag10 = KNeighborsRegressor(n_neighbors=3)\n",
    "model_lag10.fit(X_train, y_train)\n",
    "\n",
    "y_pred = model_lag10.predict(X_test)\n",
    "mape_lag10 = mean_absolute_percentage_error(y_test, y_pred)\n",
    "print(mape_lag10)\n",
    "score_lag10 = model_lag10.score(X_test, y_test)\n",
    "score_lag10"
   ]
  },
  {
   "cell_type": "markdown",
   "id": "21ba9759",
   "metadata": {},
   "source": [
    "## Evalusi setiap model dengan lag berbeda"
   ]
  },
  {
   "cell_type": "markdown",
   "id": "b41a3ace",
   "metadata": {},
   "source": [
    "### Evaluasi dengan Metrik $R^2$"
   ]
  },
  {
   "cell_type": "code",
   "execution_count": 52,
   "id": "65e04ac4",
   "metadata": {},
   "outputs": [],
   "source": [
    "import matplotlib.pyplot as plt"
   ]
  },
  {
   "cell_type": "code",
   "execution_count": 53,
   "id": "64dca507",
   "metadata": {},
   "outputs": [
    {
     "data": {
      "image/png": "[encoded data removed]",
      "text/plain": [
       "<Figure size 640x480 with 1 Axes>"
      ]
     },
     "metadata": {},
     "output_type": "display_data"
    }
   ],
   "source": [
    "score = [score_lag1, score_lag2, score_lag3, score_lag4, score_lag5, score_lag10]\n",
    "label = [\"KNN lag_1\", \"KNN lag_2\", \"KNN lag_3\", \"KNN lag_4\", \"KNN lag_5\", \"KNN lag_10\"]\n",
    "\n",
    "plt.bar(label, score, color=[\"#b983ff\"])\n",
    "\n",
    "for i, v in enumerate(score):\n",
    "    plt.text(i, v - 0.1, f\"{v:.3}\", va=\"center\", ha=\"center\", color=\"white\", fontsize=10)\n",
    "plt.show()"
   ]
  },
  {
   "cell_type": "markdown",
   "id": "62eeacda",
   "metadata": {},
   "source": [
    "### Kesimpulan Hasil Evaluasi Model KNN Berdasarkan Lag\n",
    "\n",
    "Grafik menunjukkan performa model **K-Nearest Neighbors (KNN)** dengan berbagai nilai *lag* (lag_1 hingga lag_5, dan lag_10).  \n",
    "Nilai yang ditampilkan pada batang adalah **skor akurasi (atau koefisien determinasi/R²)** dari masing-masing model.\n",
    "\n",
    "#### Analisis\n",
    "- **KNN lag_1** memiliki performa terbaik dengan skor **0.983**, menunjukkan hubungan paling kuat antara fitur dan target ketika hanya menggunakan 1 lag sebelumnya.\n",
    "- **KNN lag_2** sedikit menurun menjadi **0.877**, namun masih tergolong sangat baik.\n",
    "- Setelah itu, performa terus menurun hingga **lag_4 (0.867)** dan **lag_5 (0.897)**.\n",
    "- lalu paling rendah di lag_10 dengan **lag_10 (0.582)**\n",
    "\n",
    "#### Kesimpulan\n",
    "- Penggunaan **lag yang lebih besar tidak selalu meningkatkan performa model**.  \n",
    "- Informasi dari data terbaru (lag_1 dan lag_2) lebih relevan dibanding data yang lebih lama.  \n",
    "- Model **KNN dengan lag_1** merupakan konfigurasi **paling optimal** untuk dataset ini.\n"
   ]
  },
  {
   "cell_type": "markdown",
   "id": "6046e2c2",
   "metadata": {},
   "source": [
    "### Evaluasi dengan Metrik MAPE"
   ]
  },
  {
   "cell_type": "code",
   "execution_count": 58,
   "id": "291235b1",
   "metadata": {},
   "outputs": [
    {
     "data": {
      "image/png": "[encoded data removed]",
      "text/plain": [
       "<Figure size 640x480 with 1 Axes>"
      ]
     },
     "metadata": {},
     "output_type": "display_data"
    }
   ],
   "source": [
    "mape = [mape_lag1, mape_lag2, mape_lag3, mape_lag4, mape_lag5, mape_lag10]\n",
    "label = [\"KNN lag_1\", \"KNN lag_2\", \"KNN lag_3\", \"KNN lag_4\", \"KNN lag_5\", \"KNN lag_10\"]\n",
    "\n",
    "plt.bar(label, mape, color=[\"#b983ff\"])\n",
    "\n",
    "for i, v in enumerate(mape):\n",
    "    plt.text(i, v - 0.02, f\"{v:.3}\", va=\"center\", ha=\"center\", color=\"white\", fontsize=10)\n",
    "plt.show()"
   ]
  },
  {
   "cell_type": "markdown",
   "id": "77ff4d12",
   "metadata": {},
   "source": [
    "\n",
    "\n",
    "- **Semakin kecil nilai MAPE**, semakin **baik akurasi model** dalam memprediksi data.  \n",
    "- Dari grafik, model dengan **lag_1** memiliki MAPE paling rendah (**0.0343**), sehingga **prediksinya paling akurat**.  \n",
    "- Sebaliknya, **lag_10** memiliki MAPE tertinggi (**0.123**), menandakan model tersebut memiliki kesalahan prediksi paling besar.  \n",
    "- Secara umum, peningkatan jumlah lag tidak selalu memperbaiki akurasi. Terlalu banyak lag justru bisa membuat model **overfitting** atau menangkap **noise** pada data.\n",
    "\n",
    "---\n",
    "\n",
    "### Kesimpulan\n",
    "\n",
    "Model **KNN lag_1** adalah model terbaik berdasarkan metrik MAPE, karena memiliki tingkat kesalahan terendah dibandingkan model dengan lag lainnya.  \n",
    "Nilai MAPE yang rendah (**3.43%**) menunjukkan bahwa rata-rata prediksi model hanya meleset sekitar **3.43% dari nilai sebenarnya**, yang dapat dikategorikan **sangat baik**.\n"
   ]
  }
 ],
 "metadata": {
  "kernelspec": {
   "display_name": "Python 3",
   "language": "python",
   "name": "python3"
  },
  "language_info": {
   "codemirror_mode": {
    "name": "ipython",
    "version": 3
   },
   "file_extension": ".py",
   "mimetype": "text/x-python",
   "name": "python",
   "nbconvert_exporter": "python",
   "pygments_lexer": "ipython3",
   "version": "3.11.0"
  }
 },
 "nbformat": 4,
 "nbformat_minor": 5
}

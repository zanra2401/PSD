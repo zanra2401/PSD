{
 "cells": [
  {
   "cell_type": "markdown",
   "id": "44a894a8",
   "metadata": {},
   "source": [
    "# MODEL Klasifikasi (ECOLI)"
   ]
  },
  {
   "cell_type": "markdown",
   "id": "41bc44bf",
   "metadata": {},
   "source": [
    "## 1. Pengertian\n",
    "Klasifikasi adalah proses **mengelompokkan data** ke dalam **kelas** tertentu berdasarkan fitur-fiturnya.  \n",
    "Metode ini termasuk **supervised learning** karena model dilatih menggunakan data yang sudah diberi label.\n",
    "\n",
    "## 2. Tujuan\n",
    "- Memprediksi kelas dari data baru yang belum diketahui.\n",
    "- Menemukan pola hubungan antara fitur dan label.\n",
    "\n",
    "## 3. Tahapan Umum Klasifikasi\n",
    "1. **Pengumpulan Data** – Dataset berlabel (fitur + kelas).\n",
    "2. **Pra-pemrosesan Data** – Membersihkan data, normalisasi, menangani data imbalance.\n",
    "3. **Pembagian Dataset** – Train/Test split (sering dengan stratifikasi).\n",
    "4. **Pelatihan Model** – Melatih model klasifikasi pada data train.\n",
    "5. **Evaluasi Model** – Mengukur kinerja model dengan metrik (Akurasi, Precision, Recall, F1-score, Confusion Matrix).\n",
    "6. **Prediksi Data Baru** – Menggunakan model untuk memprediksi kelas data yang belum diketahui.\n",
    "\n",
    "## 4. Algoritma yang Akan Dicoba\n",
    "\n",
    "### a. Naive Bayes (NB)\n",
    "- Berdasarkan **Teorema Bayes**.\n",
    "- Mengasumsikan setiap fitur independen satu sama lain.\n",
    "- Cepat, sederhana, cocok untuk dataset teks seperti klasifikasi email/spam.\n",
    "\n",
    "### b. Random Forest\n",
    "- **Ensemble learning** berbasis banyak pohon keputusan (Decision Trees).\n",
    "- Setiap pohon dilatih dengan subset data secara acak.\n",
    "- Hasil prediksi diambil dengan voting mayoritas.\n",
    "- Lebih stabil dan akurat dibanding satu Decision Tree.\n",
    "\n",
    "### c. Bagging Naive Bayes\n",
    "- Menggunakan teknik **Bootstrap Aggregating (Bagging)** untuk melatih banyak model **Naive Bayes** pada subset data acak.\n",
    "- Prediksi akhir diperoleh dengan voting.\n",
    "- Mengurangi variansi model Naive Bayes dan meningkatkan performa pada dataset tertentu.\n",
    "\n",
    "### d. Bagging Decision Tree\n",
    "- Sama seperti Bagging NB, tetapi model dasarnya adalah **Decision Tree**.\n",
    "- Menggabungkan beberapa Decision Tree yang dilatih pada subset data acak.\n",
    "- Mirip Random Forest\n",
    "\n",
    "## 5. Evaluasi Model Klasifikasi\n",
    "- **Akurasi**: Persentase prediksi yang benar.\n",
    "- **Precision**: Ketepatan prediksi positif.\n",
    "- **Recall**: Kemampuan mendeteksi seluruh kasus positif.\n",
    "- **F1-score**: Harmonic mean dari precision dan recall.\n",
    "- **Confusion Matrix**: Matriks yang menunjukkan distribusi prediksi vs label sebenarnya.\n",
    "\n"
   ]
  }
 ],
 "metadata": {
  "language_info": {
   "name": "python"
  }
 },
 "nbformat": 4,
 "nbformat_minor": 5
}
